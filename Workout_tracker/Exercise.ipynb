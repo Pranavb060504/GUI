{
 "cells": [
  {
   "cell_type": "code",
   "execution_count": 123,
   "metadata": {},
   "outputs": [],
   "source": [
    "import requests\n",
    "from datetime import datetime\n",
    "import os"
   ]
  },
  {
   "cell_type": "code",
   "execution_count": 124,
   "metadata": {},
   "outputs": [],
   "source": [
    " #Use the below code to set up ypur environment variables\n",
    "# os.environ['natural_exercise_api_id']=API_ID\n",
    "# os.environ['natural_exercise_api_key']=API_KEY\n",
    "# os.environ['sheety_auth']=SHEETY_AUTH"
   ]
  },
  {
   "cell_type": "code",
   "execution_count": 125,
   "metadata": {},
   "outputs": [],
   "source": [
    "GENDER = \"MALE\"\n",
    "WEIGHT_KG = \"54\"\n",
    "HEIGHT = \"170\" \n",
    "AGE = \"19\"\n",
    "\n",
    "exercise_url=\"https://trackapi.nutritionix.com/v2/natural/exercise\"\n",
    "sheety_url=\"https://api.sheety.co/6cfa0ef1d4a5bf8c62875b9417dee4ea/copyOfMyWorkouts/workouts\"\n",
    "\n",
    "\n",
    "exercise_input=input(\"What exercise did you do today?:\\n\")\n",
    "parameters = {\n",
    "    'query': exercise_input,\n",
    "    \"gender\": GENDER,\n",
    "    \"weight_kg\": WEIGHT_KG,\n",
    "    \"height_cm\": HEIGHT,\n",
    "    \"age\": AGE,\n",
    "}\n",
    "\n",
    "header={\n",
    "    \"x-app-id\":os.environ['natural_exercise_api_id'],\n",
    "    'x-app-key':os.environ['natural_exercise_api_key']\n",
    "}\n",
    "\n",
    "sheety_header={\n",
    "    \"Authorization\":os.environ['sheety_auth']\n",
    "}"
   ]
  },
  {
   "cell_type": "code",
   "execution_count": 126,
   "metadata": {},
   "outputs": [],
   "source": [
    "response = requests.post(url=exercise_url, json=parameters, headers=header)\n",
    "response.raise_for_status()\n",
    "result = response.json()"
   ]
  },
  {
   "cell_type": "code",
   "execution_count": 127,
   "metadata": {},
   "outputs": [],
   "source": [
    "today_date = datetime.now().strftime(\"%d/%m/%Y\")\n",
    "now_time = datetime.now().strftime(\"%X\")\n",
    "data=result['exercises']\n",
    "row_data=[]\n",
    "for exercise in data:\n",
    "    body={\n",
    "        \"workout\":{\n",
    "            \"date\":today_date,\n",
    "            \"time\":now_time,\n",
    "            \"exercise\":exercise['name'].title(),\n",
    "            \"duration\":exercise['duration_min'],\n",
    "            \"calories\":exercise['nf_calories'],\n",
    "        }\n",
    "    }\n",
    "    row_data.append(body)"
   ]
  },
  {
   "cell_type": "code",
   "execution_count": 128,
   "metadata": {},
   "outputs": [],
   "source": [
    "for row in row_data:\n",
    "    result=requests.post(url=sheety_url,json=row,headers=sheety_header)\n",
    "    result.raise_for_status()"
   ]
  }
 ],
 "metadata": {
  "kernelspec": {
   "display_name": "Python 3",
   "language": "python",
   "name": "python3"
  },
  "language_info": {
   "codemirror_mode": {
    "name": "ipython",
    "version": 3
   },
   "file_extension": ".py",
   "mimetype": "text/x-python",
   "name": "python",
   "nbconvert_exporter": "python",
   "pygments_lexer": "ipython3",
   "version": "3.11.1"
  },
  "orig_nbformat": 4
 },
 "nbformat": 4,
 "nbformat_minor": 2
}
