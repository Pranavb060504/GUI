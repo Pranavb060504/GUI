{
 "cells": [
  {
   "cell_type": "code",
   "execution_count": 56,
   "metadata": {},
   "outputs": [],
   "source": [
    "import requests\n",
    "import datetime\n",
    "from twilio.rest import Client"
   ]
  },
  {
   "cell_type": "code",
   "execution_count": 59,
   "metadata": {},
   "outputs": [],
   "source": [
    "STOCK = \"TSLA\"\n",
    "COMPANY_NAME = \"Tesla Inc\"\n",
    "#api key for alphavantage\n",
    "api_key_1= \"\"\n",
    "#api key for newsapi\n",
    "api_key_2=\"\"\n",
    "#sid, auth token and twilio phone number\n",
    "TWILIO_SID=\"\"\n",
    "TWILIO_AUTH_TOKEN=\"\"\n",
    "phn_number=\"\"\n",
    "\n",
    "\n",
    "parameters={\n",
    "    \"function\":\"TIME_SERIES_DAILY_ADJUSTED\",\n",
    "    \"symbol\":f\"{STOCK}\",\n",
    "    \"apikey\":api_key_1\n",
    "}\n",
    "#getting stock closing prices for past 2 days\n",
    "response=requests.get(url=\"https://www.alphavantage.co/query\",params=parameters)\n",
    "data=response.json()[\"Time Series (Daily)\"]\n",
    "data_list=[]\n",
    "for key in data:\n",
    "    data_list.append(data[key])\n",
    "yesterday_close=data_list[0]['4. close']\n",
    "day_before_yesterday_close=data_list[1]['4. close']\n",
    "percentage=(float(yesterday_close)-float(day_before_yesterday_close))/float(day_before_yesterday_close) *100\n"
   ]
  },
  {
   "cell_type": "code",
   "execution_count": 69,
   "metadata": {},
   "outputs": [],
   "source": [
    "#check if stock prices went up or down\n",
    "up_down=None\n",
    "if percentage>0:\n",
    "    up_down=\"🔺\"\n",
    "else:\n",
    "    up_down=\"🔻\"\n",
    "\n",
    "parameters={\n",
    "    \"apikey\":api_key_2,\n",
    "    \"q\":COMPANY_NAME\n",
    "}\n",
    "#get news realted to company and send message \n",
    "news_response=requests.get(url=\"https://newsapi.org/v2/everything\",params=parameters)\n",
    "news_data=news_response.json()\n",
    "top_news=news_data['articles'][:4]\n",
    "\n",
    "articles=[]\n",
    "for news in top_news:\n",
    "    articles.append(f\"{up_down}{percentage}\\nHeadline:{news['title']}\\nBrief:{news['description']}\\n\\n\")\n",
    "\n",
    "client=Client(TWILIO_SID,TWILIO_AUTH_TOKEN)\n",
    "for article in articles:\n",
    "    message=client.messages.create(\n",
    "        body=article,\n",
    "        from_=f\"{phn_number}\",\n",
    "        to=\"+918897304733\",\n",
    "\n",
    "    )\n"
   ]
  }
 ],
 "metadata": {
  "kernelspec": {
   "display_name": "Python 3",
   "language": "python",
   "name": "python3"
  },
  "language_info": {
   "codemirror_mode": {
    "name": "ipython",
    "version": 3
   },
   "file_extension": ".py",
   "mimetype": "text/x-python",
   "name": "python",
   "nbconvert_exporter": "python",
   "pygments_lexer": "ipython3",
   "version": "3.11.1"
  },
  "orig_nbformat": 4
 },
 "nbformat": 4,
 "nbformat_minor": 2
}
